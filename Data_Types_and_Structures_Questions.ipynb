{
  "nbformat": 4,
  "nbformat_minor": 0,
  "metadata": {
    "colab": {
      "provenance": []
    },
    "kernelspec": {
      "name": "python3",
      "display_name": "Python 3"
    },
    "language_info": {
      "name": "python"
    }
  },
  "cells": [
    {
      "cell_type": "markdown",
      "source": [
        "1. What are data structures, and why are they important?\n",
        "Data structures are ways of organizing and storing data so it can be accessed and\n",
        "modified e6iciently. They’re important because the right data structure makes programs\n",
        "faster, easier to manage, and more memory-e6icient. For example, lists work well for\n",
        "ordered collections, while dictionaries are great for key-value lookups.\n",
        "\n",
        "2. Explain the di;erence between mutable and immutable data types with\n",
        "examples.\n",
        "Mutable data types can be changed after they’re created, while immutable ones\n",
        "cannot. For example, lists are mutable:\n",
        "my_list = [1, 2, 3]\n",
        "my_list[0] = 10 # list changes\n",
        "Strings are immutable:\n",
        "s = \"hello\"\n",
        "s[0] = \"H\" # this would cause an error\n",
        "\n",
        "3. What are the main di;erences between lists and tuples in Python?\n",
        "• Lists are mutable, while tuples are immutable.\n",
        "• Lists are slower in performance compared to tuples.\n",
        "• Tuples are often used when data should not be changed, while lists are used for\n",
        "dynamic collections.\n",
        "\n",
        "4. Describe how dictionaries store data.\n",
        "Dictionaries store data as key-value pairs. Each key must be unique and immutable,\n",
        "and it maps directly to a value. Internally, dictionaries use a hash table to quickly find\n",
        "values using their keys.\n",
        "\n",
        "5. Why might you use a set instead of a list in Python?\n",
        "Sets automatically remove duplicate values and provide very fast membership checks.\n",
        "For example, if you want to store unique student IDs and check if an ID exists, a set\n",
        "works better than a list.\n",
        "\n",
        "6. What is a string in Python, and how is it di;erent from a list?\n",
        "A string is a sequence of characters. Unlike lists, strings are immutable, meaning you\n",
        "can’t change a character in place. Lists can hold di6erent data types and can be\n",
        "modified, while strings always hold characters and stay fixed once created.\n",
        "\n",
        "7. How do tuples ensure data integrity in Python?\n",
        "Since tuples are immutable, the data inside them cannot be changed after creation.\n",
        "This ensures the data remains consistent throughout the program, which is useful when\n",
        "storing fixed records like coordinates or configuration values.\n",
        "\n",
        "8. What is a hash table, and how does it relate to dictionaries in Python?\n",
        "A hash table is a data structure that stores data in key-value pairs using a hash function\n",
        "to quickly locate keys. Python dictionaries are built on hash tables, which is why\n",
        "dictionary lookups are very fast.\n",
        "\n",
        "9. Can lists contain di;erent data types in Python?\n",
        "Yes, lists can hold elements of di6erent types. For example:\n",
        "my_list = [10, \"hello\", 3.14, True]\n",
        "\n",
        "10. Explain why strings are immutable in Python.\n",
        "Strings are immutable to ensure consistency and security, especially when used in\n",
        "multiple parts of a program. Immutability also allows Python to optimize memory usage\n",
        "by reusing string objects internally.\n",
        "\n",
        "11. What advantages do dictionaries o;er over lists for certain tasks?\n",
        "Dictionaries are faster for looking up values when you know the key. Instead of\n",
        "searching through a list, a dictionary can retrieve data directly through the key, which\n",
        "makes it ideal for tasks like managing user records or counting word frequencies.\n",
        "\n",
        "12. Describe a scenario where using a tuple would be preferable over a list.\n",
        "Tuples are preferable when the data should not change, such as storing the latitude and\n",
        "longitude of a city. Since coordinates don’t need modification, a tuple ensures data\n",
        "integrity.\n",
        "\n",
        "13. How do sets handle duplicate values in Python?\n",
        "Sets automatically remove duplicates. If you add the same value multiple times, it will\n",
        "only appear once in the set.\n",
        "\n",
        "14. How does the “in” keyword work di;erently for lists and dictionaries?\n",
        "• For lists, in checks if a value exists in the list.\n",
        "• For dictionaries, in checks if a key exists, not the value.\n",
        "\n",
        "15. Can you modify the elements of a tuple? Explain why or why not.\n",
        "No, you cannot modify elements of a tuple because tuples are immutable. Once a tuple\n",
        "is created, its contents are fixed.\n",
        "\n",
        "16. What is a nested dictionary, and give an example of its use case.\n",
        "A nested dictionary is a dictionary that contains another dictionary as a value. For\n",
        "example:\n",
        "students = {\n",
        "\"Alice\": {\"age\": 20, \"grade\": \"A\"},\n",
        "\"Bob\": {\"age\": 22, \"grade\": \"B\"}\n",
        "}\n",
        "This is useful for storing structured data, like student records.\n",
        "\n",
        "17. Describe the time complexity of accessing elements in a dictionary.\n",
        "Accessing elements in a dictionary is generally O(1), meaning it takes constant time\n",
        "regardless of the size of the dictionary. This is because dictionaries use hash tables\n",
        "internally.\n",
        "\n",
        "18. In what situations are lists preferred over dictionaries?\n",
        "Lists are better when order matters, or when you only need a simple sequence of\n",
        "values. For example, storing a list of numbers to process in order.\n",
        "\n",
        "19. Why are dictionaries considered unordered, and how does that a;ect data\n",
        "retrieval?\n",
        "\n",
        "Before Python 3.7, dictionaries didn’t maintain insertion order, so items could appear in\n",
        "any order when iterating. Even though modern Python preserves insertion order,\n",
        "dictionaries are still accessed by key, not position. This means you can’t rely on numeric\n",
        "indexing like you can with lists.\n",
        "\n",
        "20. Explain the di;erence between a list and a dictionary in terms of data retrieval.\n",
        "• Lists retrieve items by index position.\n",
        "• Dictionaries retrieve items by key.\n",
        "If you need positional access, use a list. If you need quick lookups by a unique identifier,\n",
        "use a dictionary."
      ],
      "metadata": {
        "id": "Gdrok1dJJtKB"
      }
    },
    {
      "cell_type": "code",
      "execution_count": null,
      "metadata": {
        "colab": {
          "base_uri": "https://localhost:8080/"
        },
        "id": "SwXbAyKtn9cl",
        "outputId": "7de5eec1-edea-48be-953c-118ec6359c48"
      },
      "outputs": [
        {
          "output_type": "stream",
          "name": "stdout",
          "text": [
            "Sindhu\n"
          ]
        }
      ],
      "source": [
        "# Q1. Write a code to create a string with your name and print it\n",
        "name = \"Sindhu\"\n",
        "print(name)"
      ]
    },
    {
      "cell_type": "code",
      "source": [
        "# Q2. Write a code to find the length of the string \"Hello World\"\n",
        "s = \"Hello World\"\n",
        "print(len(s))"
      ],
      "metadata": {
        "colab": {
          "base_uri": "https://localhost:8080/"
        },
        "id": "RfcHmKdMoZmP",
        "outputId": "cfdbe0e7-623f-41a6-cecb-f61766f03e5d"
      },
      "execution_count": null,
      "outputs": [
        {
          "output_type": "stream",
          "name": "stdout",
          "text": [
            "11\n"
          ]
        }
      ]
    },
    {
      "cell_type": "code",
      "source": [
        "# Q3. Write a code to slice the first 3 characters from the string \"Python Programming\"\n",
        "s = \"Python Programming\"\n",
        "print(s[:3])"
      ],
      "metadata": {
        "colab": {
          "base_uri": "https://localhost:8080/"
        },
        "id": "76NuZPp3oZu5",
        "outputId": "b50ae980-b2e1-4a4b-8a96-92635e424158"
      },
      "execution_count": null,
      "outputs": [
        {
          "output_type": "stream",
          "name": "stdout",
          "text": [
            "Pyt\n"
          ]
        }
      ]
    },
    {
      "cell_type": "code",
      "source": [
        "# Q4. Write a code to convert the string \"hello\" to uppercase\n",
        "s = \"hello\"\n",
        "print(s.upper())"
      ],
      "metadata": {
        "colab": {
          "base_uri": "https://localhost:8080/"
        },
        "id": "VX2kDL9qoZ46",
        "outputId": "24df1d61-8101-4e4b-84dd-8bdf23631a7f"
      },
      "execution_count": null,
      "outputs": [
        {
          "output_type": "stream",
          "name": "stdout",
          "text": [
            "HELLO\n"
          ]
        }
      ]
    },
    {
      "cell_type": "code",
      "source": [
        "# Q5. Write a code to replace the word \"apple\" with \"orange\" in the string \"I like apple\"\n",
        "s = \"I like apple\"\n",
        "print(s.replace(\"apple\", \"orange\"))"
      ],
      "metadata": {
        "colab": {
          "base_uri": "https://localhost:8080/"
        },
        "id": "OakWqrHDoaBW",
        "outputId": "cff1e78b-e5b6-466a-c40b-e855160efe22"
      },
      "execution_count": null,
      "outputs": [
        {
          "output_type": "stream",
          "name": "stdout",
          "text": [
            "I like orange\n"
          ]
        }
      ]
    },
    {
      "cell_type": "code",
      "source": [
        "# Q6. Write a code to create a list with numbers 1 to 5 and print it\n",
        "numbers = [1, 2, 3, 4, 5]\n",
        "print(numbers)"
      ],
      "metadata": {
        "colab": {
          "base_uri": "https://localhost:8080/"
        },
        "id": "rDnCvV5XoaJo",
        "outputId": "c52d10af-df9b-42fc-c400-cfaec27e8650"
      },
      "execution_count": null,
      "outputs": [
        {
          "output_type": "stream",
          "name": "stdout",
          "text": [
            "[1, 2, 3, 4, 5]\n"
          ]
        }
      ]
    },
    {
      "cell_type": "code",
      "source": [
        "# Q7. Write a code to append the number 10 to the list [1, 2, 3, 4]\n",
        "lst = [1, 2, 3, 4]\n",
        "lst.append(10)\n",
        "print(lst)"
      ],
      "metadata": {
        "colab": {
          "base_uri": "https://localhost:8080/"
        },
        "id": "8cJVIQKloaRp",
        "outputId": "32ae58bc-95cb-42e4-d354-4bb69588adc8"
      },
      "execution_count": null,
      "outputs": [
        {
          "output_type": "stream",
          "name": "stdout",
          "text": [
            "[1, 2, 3, 4, 10]\n"
          ]
        }
      ]
    },
    {
      "cell_type": "code",
      "source": [
        "# Q8. Write a code to remove the number 3 from the list [1, 2, 3, 4, 5]\n",
        "lst = [1, 2, 3, 4, 5]\n",
        "lst.remove(3)\n",
        "print(lst)"
      ],
      "metadata": {
        "colab": {
          "base_uri": "https://localhost:8080/"
        },
        "id": "KXCjLJgioaZB",
        "outputId": "c341ed9a-3f3a-4541-f5e7-0690660c0f86"
      },
      "execution_count": null,
      "outputs": [
        {
          "output_type": "stream",
          "name": "stdout",
          "text": [
            "[1, 2, 4, 5]\n"
          ]
        }
      ]
    },
    {
      "cell_type": "code",
      "source": [
        "# Q9. Write a code to access the second element in the list ['a', 'b', 'c', 'd']\n",
        "lst = ['a', 'b', 'c', 'd']\n",
        "print(lst[1])"
      ],
      "metadata": {
        "colab": {
          "base_uri": "https://localhost:8080/"
        },
        "id": "KKBZFIMSoahB",
        "outputId": "39e35041-769d-4a30-e9dc-9f8f5378310c"
      },
      "execution_count": null,
      "outputs": [
        {
          "output_type": "stream",
          "name": "stdout",
          "text": [
            "b\n"
          ]
        }
      ]
    },
    {
      "cell_type": "code",
      "source": [
        "# Q10. Write a code to reverse the list [10, 20, 30, 40, 50]\n",
        "lst = [10, 20, 30, 40, 50]\n",
        "lst.reverse()\n",
        "print(lst)"
      ],
      "metadata": {
        "colab": {
          "base_uri": "https://localhost:8080/"
        },
        "id": "uYVH08Rioaom",
        "outputId": "d255ad0f-7541-4a02-c7ec-ef59204927ab"
      },
      "execution_count": null,
      "outputs": [
        {
          "output_type": "stream",
          "name": "stdout",
          "text": [
            "[50, 40, 30, 20, 10]\n"
          ]
        }
      ]
    },
    {
      "cell_type": "code",
      "source": [
        "# Q11. Write a code to create a tuple with the elements 100, 200, 300 and print it\n",
        "t = (100, 200, 300)\n",
        "print(t)"
      ],
      "metadata": {
        "colab": {
          "base_uri": "https://localhost:8080/"
        },
        "id": "GwQeaJM3oaxE",
        "outputId": "c455ab1a-95ea-4bde-da88-d82864e95155"
      },
      "execution_count": null,
      "outputs": [
        {
          "output_type": "stream",
          "name": "stdout",
          "text": [
            "(100, 200, 300)\n"
          ]
        }
      ]
    },
    {
      "cell_type": "code",
      "source": [
        "# Q12. Write a code to access the second-to-last element of the tuple ('red', 'green', 'blue', 'yellow')\n",
        "t = ('red', 'green', 'blue', 'yellow')\n",
        "print(t[-2])"
      ],
      "metadata": {
        "colab": {
          "base_uri": "https://localhost:8080/"
        },
        "id": "6nh3lRYFoa4X",
        "outputId": "97f65eb7-430f-4f48-fa29-7bfecb283c9d"
      },
      "execution_count": null,
      "outputs": [
        {
          "output_type": "stream",
          "name": "stdout",
          "text": [
            "blue\n"
          ]
        }
      ]
    },
    {
      "cell_type": "code",
      "source": [
        "# Q13. Write a code to find the minimum number in the tuple (10, 20, 5, 15)\n",
        "t = (10, 20, 5, 15)\n",
        "print(min(t))"
      ],
      "metadata": {
        "colab": {
          "base_uri": "https://localhost:8080/"
        },
        "id": "PEd-fLcfobAD",
        "outputId": "589aa102-6deb-4399-df1d-2957769045ac"
      },
      "execution_count": null,
      "outputs": [
        {
          "output_type": "stream",
          "name": "stdout",
          "text": [
            "5\n"
          ]
        }
      ]
    },
    {
      "cell_type": "code",
      "source": [
        "# Q14. Write a code to find the index of the element \"cat\" in the tuple ('dog', 'cat', 'rabbit')\n",
        "t = ('dog', 'cat', 'rabbit')\n",
        "print(t.index(\"cat\"))"
      ],
      "metadata": {
        "colab": {
          "base_uri": "https://localhost:8080/"
        },
        "id": "qaRJUTT3obHo",
        "outputId": "d1c22b07-8e58-42d8-8fb7-8813bedb0028"
      },
      "execution_count": null,
      "outputs": [
        {
          "output_type": "stream",
          "name": "stdout",
          "text": [
            "1\n"
          ]
        }
      ]
    },
    {
      "cell_type": "code",
      "source": [
        "# Q15. Write a code to create a tuple containing three different fruits and check if \"kiwi\" is in it\n",
        "fruits = (\"apple\", \"banana\", \"orange\")\n",
        "print(\"kiwi\" in fruits)"
      ],
      "metadata": {
        "colab": {
          "base_uri": "https://localhost:8080/"
        },
        "id": "LLlQuhelobPX",
        "outputId": "e2c1c09e-41bb-48dc-e497-c62b7f768f39"
      },
      "execution_count": null,
      "outputs": [
        {
          "output_type": "stream",
          "name": "stdout",
          "text": [
            "False\n"
          ]
        }
      ]
    },
    {
      "cell_type": "code",
      "source": [
        "# Q16. Write a code to create a set with the elements 'a', 'b', 'c' and print it\n",
        "s = {'a', 'b', 'c'}\n",
        "print(s)"
      ],
      "metadata": {
        "colab": {
          "base_uri": "https://localhost:8080/"
        },
        "id": "Vt1a35UPobWn",
        "outputId": "6c7d6e52-10ad-4b7a-b836-813e8c53db4d"
      },
      "execution_count": null,
      "outputs": [
        {
          "output_type": "stream",
          "name": "stdout",
          "text": [
            "{'b', 'c', 'a'}\n"
          ]
        }
      ]
    },
    {
      "cell_type": "code",
      "source": [
        "# Q17. Write a code to clear all elements from the set {1, 2, 3, 4, 5}\n",
        "s = {1, 2, 3, 4, 5}\n",
        "s.clear()\n",
        "print(s)"
      ],
      "metadata": {
        "colab": {
          "base_uri": "https://localhost:8080/"
        },
        "id": "45hNbfBfobeA",
        "outputId": "21e70a9a-10e8-46c1-eb5b-3d425564b446"
      },
      "execution_count": null,
      "outputs": [
        {
          "output_type": "stream",
          "name": "stdout",
          "text": [
            "set()\n"
          ]
        }
      ]
    },
    {
      "cell_type": "code",
      "source": [
        "# Q18. Write a code to remove the element 4 from the set {1, 2, 3, 4}\n",
        "s = {1, 2, 3, 4}\n",
        "s.remove(4)\n",
        "print(s)"
      ],
      "metadata": {
        "colab": {
          "base_uri": "https://localhost:8080/"
        },
        "id": "U5Jz464aobkL",
        "outputId": "60323444-fab3-4ba2-964e-dc53513b107a"
      },
      "execution_count": null,
      "outputs": [
        {
          "output_type": "stream",
          "name": "stdout",
          "text": [
            "{1, 2, 3}\n"
          ]
        }
      ]
    },
    {
      "cell_type": "code",
      "source": [
        "# Q19. Write a code to find the union of two sets {1, 2, 3} and {3, 4, 5}\n",
        "s1 = {1, 2, 3}\n",
        "s2 = {3, 4, 5}\n",
        "print(s1.union(s2))"
      ],
      "metadata": {
        "colab": {
          "base_uri": "https://localhost:8080/"
        },
        "id": "hP-Mt4c0obrT",
        "outputId": "d314a19c-8998-4c38-a15f-f423df515968"
      },
      "execution_count": null,
      "outputs": [
        {
          "output_type": "stream",
          "name": "stdout",
          "text": [
            "{1, 2, 3, 4, 5}\n"
          ]
        }
      ]
    },
    {
      "cell_type": "code",
      "source": [
        "# Q20. Write a code to find the intersection of two sets {1, 2, 3} and {2, 3, 4}\n",
        "s1 = {1, 2, 3}\n",
        "s2 = {2, 3, 4}\n",
        "print(s1.intersection(s2))"
      ],
      "metadata": {
        "colab": {
          "base_uri": "https://localhost:8080/"
        },
        "id": "9B501zyuobyw",
        "outputId": "931e3e96-f452-4b8e-f148-6efe763498ec"
      },
      "execution_count": null,
      "outputs": [
        {
          "output_type": "stream",
          "name": "stdout",
          "text": [
            "{2, 3}\n"
          ]
        }
      ]
    },
    {
      "cell_type": "code",
      "source": [
        "# Q21. Write a code to create a dictionary with the keys \"name\", \"age\", and \"city\", and print it\n",
        "d = {\"name\": \"John\", \"age\": 25, \"city\": \"New York\"}\n",
        "print(d)\n"
      ],
      "metadata": {
        "colab": {
          "base_uri": "https://localhost:8080/"
        },
        "id": "9TIbHu0Mob5x",
        "outputId": "cb12c7a4-3e23-42f9-87e8-ebdfc138ac7e"
      },
      "execution_count": null,
      "outputs": [
        {
          "output_type": "stream",
          "name": "stdout",
          "text": [
            "{'name': 'John', 'age': 25, 'city': 'New York'}\n"
          ]
        }
      ]
    },
    {
      "cell_type": "code",
      "source": [
        "# Q22. Write a code to add a new key-value pair \"country\": \"USA\" to the dictionary {'name': 'John', 'age': 25}\n",
        "d = {'name': 'John', 'age': 25}\n",
        "d[\"country\"] = \"USA\"\n",
        "print(d)"
      ],
      "metadata": {
        "colab": {
          "base_uri": "https://localhost:8080/"
        },
        "id": "7MLWWHfWocBY",
        "outputId": "ba722696-dc0d-4258-99fe-806f368b4e19"
      },
      "execution_count": null,
      "outputs": [
        {
          "output_type": "stream",
          "name": "stdout",
          "text": [
            "{'name': 'John', 'age': 25, 'country': 'USA'}\n"
          ]
        }
      ]
    },
    {
      "cell_type": "code",
      "source": [
        "# Q23. Write a code to access the value associated with the key \"name\" in the dictionary {'name': 'Alice', 'age': 30}\n",
        "d = {'name': 'Alice', 'age': 30}\n",
        "print(d[\"name\"])"
      ],
      "metadata": {
        "colab": {
          "base_uri": "https://localhost:8080/"
        },
        "id": "ju43nrp9ocH6",
        "outputId": "f53ea899-982f-4952-c26e-313159b75e34"
      },
      "execution_count": null,
      "outputs": [
        {
          "output_type": "stream",
          "name": "stdout",
          "text": [
            "Alice\n"
          ]
        }
      ]
    },
    {
      "cell_type": "code",
      "source": [
        "# Q24. Write a code to remove the key \"age\" from the dictionary {'name': 'Bob', 'age': 22, 'city': 'New York'}\n",
        "d = {'name': 'Bob', 'age': 22, 'city': 'New York'}\n",
        "del d[\"age\"]\n",
        "print(d)"
      ],
      "metadata": {
        "colab": {
          "base_uri": "https://localhost:8080/"
        },
        "id": "o55zz4DYocSV",
        "outputId": "a1baaa86-75a6-4166-d67c-3adb429b9b6a"
      },
      "execution_count": null,
      "outputs": [
        {
          "output_type": "stream",
          "name": "stdout",
          "text": [
            "{'name': 'Bob', 'city': 'New York'}\n"
          ]
        }
      ]
    },
    {
      "cell_type": "code",
      "source": [
        "# Q25. Write a code to check if the key \"city\" exists in the dictionary {'name': 'Alice', 'city': 'Paris'}\n",
        "d = {'name': 'Alice', 'city': 'Paris'}\n",
        "print(\"city\" in d)"
      ],
      "metadata": {
        "colab": {
          "base_uri": "https://localhost:8080/"
        },
        "id": "0h9WlRZ7ocaJ",
        "outputId": "ab743f63-889d-485b-8d4f-0655e448e307"
      },
      "execution_count": null,
      "outputs": [
        {
          "output_type": "stream",
          "name": "stdout",
          "text": [
            "True\n"
          ]
        }
      ]
    },
    {
      "cell_type": "code",
      "source": [
        "# Q26. Write a code to create a list, a tuple, and a dictionary, and print them all\n",
        "lst = [1, 2, 3]\n",
        "t = (4, 5, 6)\n",
        "d = {\"a\": 1, \"b\": 2}\n",
        "print(lst, t, d)"
      ],
      "metadata": {
        "colab": {
          "base_uri": "https://localhost:8080/"
        },
        "id": "56hmBJbBochJ",
        "outputId": "19a41a0b-aef4-48ca-ae76-081d7a12089a"
      },
      "execution_count": null,
      "outputs": [
        {
          "output_type": "stream",
          "name": "stdout",
          "text": [
            "[1, 2, 3] (4, 5, 6) {'a': 1, 'b': 2}\n"
          ]
        }
      ]
    },
    {
      "cell_type": "code",
      "source": [
        "# Q27. Write a code to create a list of 5 random numbers between 1 and 100, sort it in ascending order, and print the result\n",
        "import random\n",
        "lst = random.sample(range(1, 101), 5)\n",
        "lst.sort()\n",
        "print(lst)"
      ],
      "metadata": {
        "colab": {
          "base_uri": "https://localhost:8080/"
        },
        "id": "LLyS6PCJocpA",
        "outputId": "e65c6c00-574d-4f83-f96e-ad565f7856f0"
      },
      "execution_count": null,
      "outputs": [
        {
          "output_type": "stream",
          "name": "stdout",
          "text": [
            "[21, 24, 33, 65, 97]\n"
          ]
        }
      ]
    },
    {
      "cell_type": "code",
      "source": [
        "# Q28. Write a code to create a list with strings and print the element at the third index\n",
        "lst = [\"apple\", \"banana\", \"cherry\", \"date\"]\n",
        "print(lst[3])"
      ],
      "metadata": {
        "colab": {
          "base_uri": "https://localhost:8080/"
        },
        "id": "_cTyMrvbocwa",
        "outputId": "f00177f9-d6b8-4130-ecd0-70a5bb9a62dd"
      },
      "execution_count": null,
      "outputs": [
        {
          "output_type": "stream",
          "name": "stdout",
          "text": [
            "date\n"
          ]
        }
      ]
    },
    {
      "cell_type": "code",
      "source": [
        "# Q29. Write a code to combine two dictionaries into one and print the result\n",
        "d1 = {\"a\": 1, \"b\": 2}\n",
        "d2 = {\"c\": 3, \"d\": 4}\n",
        "d1.update(d2)\n",
        "print(d1)"
      ],
      "metadata": {
        "colab": {
          "base_uri": "https://localhost:8080/"
        },
        "id": "x8liKf0Foc3l",
        "outputId": "c20b8211-8c3f-435e-eeeb-653461f30677"
      },
      "execution_count": null,
      "outputs": [
        {
          "output_type": "stream",
          "name": "stdout",
          "text": [
            "{'a': 1, 'b': 2, 'c': 3, 'd': 4}\n"
          ]
        }
      ]
    },
    {
      "cell_type": "code",
      "source": [
        "# Q30. Write a code to convert a list of strings into a set\n",
        "lst = [\"apple\", \"banana\", \"cherry\", \"apple\"]\n",
        "s = set(lst)\n",
        "print(s)"
      ],
      "metadata": {
        "colab": {
          "base_uri": "https://localhost:8080/"
        },
        "id": "exFy5_jRoc-5",
        "outputId": "50a4abe2-1ad1-4977-8faf-c4e02b3d7c3c"
      },
      "execution_count": null,
      "outputs": [
        {
          "output_type": "stream",
          "name": "stdout",
          "text": [
            "{'cherry', 'apple', 'banana'}\n"
          ]
        }
      ]
    }
  ]
}